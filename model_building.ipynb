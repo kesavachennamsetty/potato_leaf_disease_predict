{
 "cells": [
  {
   "cell_type": "code",
   "execution_count": 1,
   "id": "3a6a64f8",
   "metadata": {},
   "outputs": [],
   "source": [
    "import pandas as pd\n",
    "import numpy as np\n",
    "import matplotlib.pyplot as plt"
   ]
  },
  {
   "cell_type": "code",
   "execution_count": 2,
   "id": "a135f432",
   "metadata": {},
   "outputs": [],
   "source": [
    "import torch\n",
    "import torch.nn as nn\n",
    "from torch.utils.data import  DataLoader\n",
    "import torch.nn.functional as F\n",
    "from torch.nn import Transformer\n",
    "from torchvision import datasets, transforms\n",
    "from PIL import Image"
   ]
  },
  {
   "cell_type": "code",
   "execution_count": 3,
   "id": "d61d799b",
   "metadata": {},
   "outputs": [],
   "source": [
    "import os"
   ]
  },
  {
   "cell_type": "code",
   "execution_count": 4,
   "id": "33955fe2",
   "metadata": {},
   "outputs": [],
   "source": [
    "train_data = 'Potato//Train'\n",
    "test_data = 'Potato/Test/'\n",
    "val_data = 'Potato/Valid/'"
   ]
  },
  {
   "cell_type": "code",
   "execution_count": 5,
   "id": "104c65da",
   "metadata": {},
   "outputs": [],
   "source": [
    "classes = {'Potato___Early_blight':0,'Potato___Late_blight':1,'Potato___healthy':2}"
   ]
  },
  {
   "cell_type": "code",
   "execution_count": 6,
   "id": "90d5c316",
   "metadata": {},
   "outputs": [],
   "source": [
    "train_imgs = []\n",
    "c = -1\n",
    "for folder, subfolder,filnames in os.walk(train_data):\n",
    "    c+=1\n",
    "    try:\n",
    "        label1 = subfolder[0]\n",
    "        label2 = subfolder[1]\n",
    "        label3 = subfolder[2]\n",
    "    except Exception as e:\n",
    "        pass\n",
    "\n",
    "    if c == 1:\n",
    "        label = label1\n",
    "    elif c == 2:\n",
    "        label = label2\n",
    "    else:\n",
    "        label = label3\n",
    "    label = classes[label]\n",
    "    for images in filnames:\n",
    "        train_imgs.append(((folder+'\\\\'+images),label))\n",
    "        \n"
   ]
  },
  {
   "cell_type": "code",
   "execution_count": 7,
   "id": "4a578ef4",
   "metadata": {},
   "outputs": [],
   "source": [
    "test_imgs = []\n",
    "c = -1\n",
    "for folder, subfolder,filnames in os.walk(test_data):\n",
    "    c+=1\n",
    "    try:\n",
    "        label1 = subfolder[0]\n",
    "        label2 = subfolder[1]\n",
    "        label3 = subfolder[2]\n",
    "    except Exception as e:\n",
    "        pass\n",
    "\n",
    "    if c == 1:\n",
    "        label = label1\n",
    "    elif c == 2:\n",
    "        label = label2\n",
    "    else:\n",
    "        label = label3\n",
    "    label = classes[label]\n",
    "    for images in filnames:\n",
    "        test_imgs.append(((folder+'\\\\'+images),label))\n",
    "        \n"
   ]
  },
  {
   "cell_type": "code",
   "execution_count": 8,
   "id": "9523013a",
   "metadata": {},
   "outputs": [],
   "source": [
    "val_imgs = []\n",
    "c = -1\n",
    "for folder, subfolder,filnames in os.walk(val_data):\n",
    "    c+=1\n",
    "    try:\n",
    "        label1 = subfolder[0]\n",
    "        label2 = subfolder[1]\n",
    "        label3 = subfolder[2]\n",
    "    except Exception as e:\n",
    "        pass\n",
    "\n",
    "    if c == 1:\n",
    "        label = label1\n",
    "    elif c == 2:\n",
    "        label = label2\n",
    "    else:\n",
    "        label = label3\n",
    "    label = classes[label]\n",
    "    for images in filnames:\n",
    "        val_imgs.append(((folder+'\\\\'+images),label))\n",
    "        \n"
   ]
  },
  {
   "cell_type": "code",
   "execution_count": 9,
   "id": "7986e44c",
   "metadata": {},
   "outputs": [
    {
     "data": {
      "text/plain": [
       "(900, 300, 300)"
      ]
     },
     "execution_count": 9,
     "metadata": {},
     "output_type": "execute_result"
    }
   ],
   "source": [
    "len(train_imgs),len(test_imgs),len(val_imgs)"
   ]
  },
  {
   "cell_type": "code",
   "execution_count": 10,
   "id": "307e1b93",
   "metadata": {},
   "outputs": [],
   "source": [
    "train_transpose = transforms.Compose([transforms.RandomRotation(20),\n",
    "                                     transforms.RandomHorizontalFlip(),\n",
    "                                     transforms.Resize(224),\n",
    "                                     transforms.CenterCrop(224),\n",
    "                                     transforms.ToTensor(),\n",
    "                                     transforms.Normalize([0.485, 0.456, 0.406],\n",
    "                                    [0.229, 0.224, 0.225])])\n",
    "\n",
    "test_transpose = transforms.Compose([transforms.Resize(224),\n",
    "                                    transforms.CenterCrop(224),\n",
    "                                    transforms.ToTensor(),\n",
    "                                    transforms.Normalize([0.485, 0.456, 0.406],\n",
    "                                    [0.229, 0.224, 0.225])])\n",
    "\n",
    "val_transpose = transforms.Compose([transforms.Resize(224),\n",
    "                                   transforms.CenterCrop(224),\n",
    "                                   transforms.ToTensor(),\n",
    "                                   transforms.Normalize([0.485, 0.456, 0.406],\n",
    "                                   [0.229, 0.224, 0.225])])"
   ]
  },
  {
   "cell_type": "code",
   "execution_count": 11,
   "id": "03e795da",
   "metadata": {},
   "outputs": [],
   "source": [
    "class COnvolutionalNeuralNetwork(nn.Module):\n",
    "    def __init__(self):\n",
    "        super().__init__()\n",
    "        self.conv1 = nn.Conv2d(3, 8, 3, 1)\n",
    "        self.conv2 = nn.Conv2d(8, 16, 3, 1)\n",
    "        self.fc1 = nn.Linear(54*54*16, 120)\n",
    "        self.fc2 = nn.Linear(120, 40)\n",
    "        self.fc3 = nn.Linear(40,3)\n",
    "\n",
    "        \n",
    "    def forward(self, X):\n",
    "        X = F.relu(self.conv1(X))\n",
    "        X = F.max_pool2d(X, 2, 2)\n",
    "        X = F.relu(self.conv2(X))\n",
    "        X = F.max_pool2d(X, 2, 2)\n",
    "        X = X.view(-1, 54*54*16)\n",
    "        X = F.relu(self.fc1(X))\n",
    "        X = F.relu(self.fc2(X))\n",
    "        X = self.fc3(X)\n",
    "#         X = self.fc4(X)\n",
    "        return F.log_softmax(X, dim=1)"
   ]
  },
  {
   "cell_type": "code",
   "execution_count": 12,
   "id": "11551143",
   "metadata": {},
   "outputs": [],
   "source": [
    "train_vec = []\n",
    "test_vec = []\n",
    "val_vec = []\n",
    "for im in train_imgs:\n",
    "    tar = im[1]\n",
    "    im = im[0]\n",
    "    im = Image.open(im)\n",
    "    im = im.convert('RGB')\n",
    "    im = train_transpose(im)\n",
    "    train_vec.append((im,tar))\n",
    "\n",
    "for im in test_imgs:\n",
    "    tar = im[1]\n",
    "    im = im[0]\n",
    "    im = Image.open(im)\n",
    "    im = im.convert('RGB')\n",
    "    im = test_transpose(im)\n",
    "    test_vec.append((im,tar))\n",
    "\n",
    "for im in val_imgs:\n",
    "    tar = im[1]\n",
    "    im = im[0]\n",
    "    im = Image.open(im)\n",
    "    im = im.convert('RGB')\n",
    "    im = val_transpose(im)\n",
    "    val_vec.append((im,tar))"
   ]
  },
  {
   "cell_type": "code",
   "execution_count": 13,
   "id": "93b3f959",
   "metadata": {},
   "outputs": [],
   "source": [
    "torch.manual_seed(204)\n",
    "train_data = DataLoader(train_vec, batch_size = 30, shuffle = True)\n",
    "test_data = DataLoader(test_vec, batch_size = 10, shuffle = False)\n",
    "val_data = DataLoader(val_vec, batch_size = 10, shuffle = False)"
   ]
  },
  {
   "cell_type": "code",
   "execution_count": 14,
   "id": "10c07898",
   "metadata": {},
   "outputs": [],
   "source": [
    "torch.manual_seed(200)\n",
    "CNN_Model = COnvolutionalNeuralNetwork()\n",
    "criterion = nn.CrossEntropyLoss()\n",
    "optimizer = torch.optim.Adam(CNN_Model.parameters(), lr=0.001)"
   ]
  },
  {
   "cell_type": "code",
   "execution_count": 15,
   "id": "c66a4520",
   "metadata": {},
   "outputs": [
    {
     "name": "stdout",
     "output_type": "stream",
     "text": [
      "epoch:  0  batch:   10 [   300/30]  loss: 0.96740818  accuracy:  43.667%\n",
      "epoch:  0  batch:   20 [   600/30]  loss: 0.58841479  accuracy:  57.167%\n",
      "epoch:  0  batch:   30 [   900/30]  loss: 0.37515676  accuracy:  63.889%\n",
      "epoch:  1  batch:   10 [   300/30]  loss: 0.40797535  accuracy:  83.667%\n",
      "epoch:  1  batch:   20 [   600/30]  loss: 0.24734272  accuracy:  85.000%\n",
      "epoch:  1  batch:   30 [   900/30]  loss: 0.43056494  accuracy:  85.667%\n",
      "epoch:  2  batch:   10 [   300/30]  loss: 0.22719191  accuracy:  95.000%\n",
      "epoch:  2  batch:   20 [   600/30]  loss: 0.17589429  accuracy:  93.833%\n",
      "epoch:  2  batch:   30 [   900/30]  loss: 0.09175353  accuracy:  94.444%\n",
      "epoch:  3  batch:   10 [   300/30]  loss: 0.10337862  accuracy:  97.667%\n",
      "epoch:  3  batch:   20 [   600/30]  loss: 0.09226990  accuracy:  97.500%\n",
      "epoch:  3  batch:   30 [   900/30]  loss: 0.10884165  accuracy:  97.778%\n",
      "epoch:  4  batch:   10 [   300/30]  loss: 0.06424496  accuracy:  99.000%\n",
      "epoch:  4  batch:   20 [   600/30]  loss: 0.04775937  accuracy:  98.833%\n",
      "epoch:  4  batch:   30 [   900/30]  loss: 0.01929301  accuracy:  98.778%\n",
      "epoch:  5  batch:   10 [   300/30]  loss: 0.00408355  accuracy:  99.667%\n",
      "epoch:  5  batch:   20 [   600/30]  loss: 0.00743222  accuracy:  99.833%\n",
      "epoch:  5  batch:   30 [   900/30]  loss: 0.01082981  accuracy:  99.556%\n",
      "epoch:  6  batch:   10 [   300/30]  loss: 0.00423162  accuracy: 100.000%\n",
      "epoch:  6  batch:   20 [   600/30]  loss: 0.02256597  accuracy: 100.000%\n",
      "epoch:  6  batch:   30 [   900/30]  loss: 0.00881232  accuracy: 100.000%\n"
     ]
    }
   ],
   "source": [
    "epochs = 7\n",
    "train_losses = []\n",
    "test_losses = []\n",
    "val_losses = []\n",
    "train_correct = []\n",
    "test_correct = []\n",
    "val_correct = []\n",
    "\n",
    "for i in range(epochs):\n",
    "    trn_corr = 0\n",
    "    tst_corr = 0\n",
    "    val_corr = 0\n",
    "    for b ,(X_train, y_train) in enumerate(train_data):\n",
    "        b+= 1\n",
    "        y_pred = CNN_Model(X_train)\n",
    "        loss = criterion(y_pred, y_train)\n",
    "        predicted = torch.max(y_pred, 1)[1]\n",
    "        batch_corr = (predicted == y_train).sum()\n",
    "        \n",
    "        trn_corr+= batch_corr\n",
    "        \n",
    "        optimizer.zero_grad()\n",
    "        loss.backward()\n",
    "        optimizer.step()\n",
    "        total_samples = b * train_data.batch_size\n",
    "        if b%10== 0:\n",
    "            print(f'epoch: {i:2}  batch: {b:4} [{total_samples:6}/30]  loss: {loss.item():10.8f}  '\n",
    "          f'accuracy: {trn_corr.item()*100/total_samples:7.3f}%')\n",
    "    train_losses.append(loss)\n",
    "    train_correct.append(trn_corr)\n",
    "    \n",
    "    with torch.no_grad():\n",
    "        for b,(X_test, y_test) in enumerate(test_data):\n",
    "            y_test_pred = CNN_Model(X_test)\n",
    "            predicted = torch.max(y_test_pred, 1)[1]\n",
    "            tst_corr += (predicted == y_test).sum()\n",
    "             \n",
    "        loss = criterion(y_test_pred, y_test)\n",
    "        test_losses.append(loss)\n",
    "        test_correct.append(tst_corr)\n",
    "        \n",
    "    with torch.no_grad():\n",
    "        for b,(X_val, y_val) in enumerate(val_data):\n",
    "            y_val_perd = CNN_Model(X_val)\n",
    "            predicted = torch.max(y_val_perd, 1)[1]\n",
    "            val_corr += (predicted == y_val).sum()\n",
    "            \n",
    "        loss = criterion(y_val_perd, y_val)\n",
    "        val_losses.append(loss)\n",
    "        val_correct.append(val_corr)"
   ]
  },
  {
   "cell_type": "code",
   "execution_count": 16,
   "id": "2c1efc68",
   "metadata": {},
   "outputs": [
    {
     "data": {
      "image/png": "[encoded data removed]",
      "text/plain": [
       "<Figure size 640x480 with 1 Axes>"
      ]
     },
     "metadata": {},
     "output_type": "display_data"
    }
   ],
   "source": [
    "# Convert train_losses and test_losses to lists of floats\n",
    "train_losses_float = [loss.detach().item() for loss in train_losses]\n",
    "test_losses_float = [loss.detach().item() for loss in test_losses]\n",
    "val_losses_float = [loss.detach().item() for loss in val_losses]\n",
    "# Plot the values\n",
    "import matplotlib.pyplot as plt\n",
    "\n",
    "plt.plot(train_losses_float, label='Training Loss')\n",
    "plt.plot(test_losses_float, label='test Loss')\n",
    "plt.plot(val_losses_float, label = 'val Loss')\n",
    "plt.title('Loss at the End of Each Epoch')\n",
    "plt.xlabel('Epoch')\n",
    "plt.ylabel('Loss')\n",
    "plt.legend()\n",
    "plt.show()"
   ]
  },
  {
   "cell_type": "code",
   "execution_count": 17,
   "id": "698d3e35",
   "metadata": {},
   "outputs": [
    {
     "name": "stdout",
     "output_type": "stream",
     "text": [
      "Test accuracy: 94.667%\n"
     ]
    }
   ],
   "source": [
    "print(f'Test accuracy: {test_correct[-1].item()*100/300:.3f}%')"
   ]
  },
  {
   "cell_type": "code",
   "execution_count": 18,
   "id": "95625901",
   "metadata": {},
   "outputs": [
    {
     "name": "stdout",
     "output_type": "stream",
     "text": [
      "Val accuracy: 94.333%\n"
     ]
    }
   ],
   "source": [
    "print(f'Val accuracy: {val_correct[-1].item()*100/300:.3f}%')"
   ]
  },
  {
   "cell_type": "code",
   "execution_count": 19,
   "id": "f7ae18c6",
   "metadata": {},
   "outputs": [
    {
     "name": "stdout",
     "output_type": "stream",
     "text": [
      "Test accuracy: 100.000%\n"
     ]
    }
   ],
   "source": [
    "print(f'Test accuracy: {train_correct[-1].item()*100/900:.3f}%')"
   ]
  },
  {
   "cell_type": "code",
   "execution_count": 21,
   "id": "0dc6fda9",
   "metadata": {},
   "outputs": [],
   "source": [
    "torch.save(CNN_Model.state_dict(), 'model_1.pt')"
   ]
  },
  {
   "cell_type": "code",
   "execution_count": null,
   "id": "00116437",
   "metadata": {},
   "outputs": [],
   "source": []
  }
 ],
 "metadata": {
  "kernelspec": {
   "display_name": "Python 3 (ipykernel)",
   "language": "python",
   "name": "python3"
  },
  "language_info": {
   "codemirror_mode": {
    "name": "ipython",
    "version": 3
   },
   "file_extension": ".py",
   "mimetype": "text/x-python",
   "name": "python",
   "nbconvert_exporter": "python",
   "pygments_lexer": "ipython3",
   "version": "3.7.3"
  }
 },
 "nbformat": 4,
 "nbformat_minor": 5
}
